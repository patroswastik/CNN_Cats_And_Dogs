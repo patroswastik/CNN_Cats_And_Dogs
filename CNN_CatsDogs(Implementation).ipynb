{
 "cells": [
  {
   "cell_type": "code",
   "execution_count": 10,
   "metadata": {},
   "outputs": [],
   "source": [
    "from tensorflow.keras.models import Sequential\n",
    "from tensorflow.keras.layers import Dense,Dropout,Flatten,MaxPooling2D,Conv2D,Activation\n",
    "from tensorflow.keras.optimizers import Adam\n",
    "import pickle"
   ]
  },
  {
   "cell_type": "code",
   "execution_count": 11,
   "metadata": {},
   "outputs": [],
   "source": [
    "X = pickle.load(open(\"X.pickle\",\"rb\"))\n",
    "y = pickle.load(open(\"y.pickle\",\"rb\"))"
   ]
  },
  {
   "cell_type": "code",
   "execution_count": 12,
   "metadata": {},
   "outputs": [],
   "source": [
    "X = X / 255.0"
   ]
  },
  {
   "cell_type": "code",
   "execution_count": 13,
   "metadata": {},
   "outputs": [],
   "source": [
    "model = Sequential()"
   ]
  },
  {
   "cell_type": "code",
   "execution_count": 15,
   "metadata": {},
   "outputs": [],
   "source": [
    "model.add(Conv2D(64,(3,3),input_shape=X.shape[1:]))\n",
    "model.add(Activation(\"relu\"))\n",
    "model.add(MaxPooling2D(pool_size=(2,2)))\n",
    "\n",
    "model.add(Conv2D(64,(3,3)))\n",
    "model.add(Activation(\"relu\"))\n",
    "model.add(MaxPooling2D(pool_size=(2,2)))\n",
    "\n",
    "model.add(Flatten())\n",
    "model.add(Dense(64))\n",
    "\n",
    "model.add(Dense(1))\n",
    "model.add(Activation(\"sigmoid\"))"
   ]
  },
  {
   "cell_type": "code",
   "execution_count": 16,
   "metadata": {},
   "outputs": [],
   "source": [
    "model.compile(loss=\"binary_crossentropy\",optimizer=\"adam\",metrics=['accuracy'])"
   ]
  },
  {
   "cell_type": "code",
   "execution_count": 18,
   "metadata": {},
   "outputs": [
    {
     "name": "stdout",
     "output_type": "stream",
     "text": [
      "Train on 22451 samples, validate on 2495 samples\n",
      "Epoch 1/15\n",
      "22451/22451 [==============================] - 258s 11ms/sample - loss: 0.3837 - acc: 0.8273 - val_loss: 0.4593 - val_acc: 0.7880\n",
      "Epoch 2/15\n",
      "22451/22451 [==============================] - 256s 11ms/sample - loss: 0.3434 - acc: 0.8505 - val_loss: 0.4313 - val_acc: 0.8060\n",
      "Epoch 3/15\n",
      "22451/22451 [==============================] - 257s 11ms/sample - loss: 0.3113 - acc: 0.8620 - val_loss: 0.4573 - val_acc: 0.7908\n",
      "Epoch 4/15\n",
      "22451/22451 [==============================] - 260s 12ms/sample - loss: 0.2758 - acc: 0.8839 - val_loss: 0.4556 - val_acc: 0.8080\n",
      "Epoch 5/15\n",
      "22451/22451 [==============================] - 257s 11ms/sample - loss: 0.2442 - acc: 0.8965 - val_loss: 0.4686 - val_acc: 0.8088\n",
      "Epoch 6/15\n",
      "22451/22451 [==============================] - 258s 11ms/sample - loss: 0.2205 - acc: 0.9085 - val_loss: 0.5085 - val_acc: 0.7928\n",
      "Epoch 7/15\n",
      "22451/22451 [==============================] - 258s 12ms/sample - loss: 0.1919 - acc: 0.9203 - val_loss: 0.5745 - val_acc: 0.7968\n",
      "Epoch 8/15\n",
      "22451/22451 [==============================] - 260s 12ms/sample - loss: 0.1734 - acc: 0.9270 - val_loss: 0.5796 - val_acc: 0.8104\n",
      "Epoch 9/15\n",
      "22451/22451 [==============================] - 261s 12ms/sample - loss: 0.1425 - acc: 0.9422 - val_loss: 0.5997 - val_acc: 0.8068\n",
      "Epoch 10/15\n",
      "22451/22451 [==============================] - 260s 12ms/sample - loss: 0.1233 - acc: 0.9520 - val_loss: 0.6547 - val_acc: 0.7952\n",
      "Epoch 11/15\n",
      "22451/22451 [==============================] - 259s 12ms/sample - loss: 0.1138 - acc: 0.9550 - val_loss: 0.6907 - val_acc: 0.7976\n",
      "Epoch 12/15\n",
      "22451/22451 [==============================] - 260s 12ms/sample - loss: 0.1045 - acc: 0.9588 - val_loss: 0.7127 - val_acc: 0.8024\n",
      "Epoch 13/15\n",
      "22451/22451 [==============================] - 261s 12ms/sample - loss: 0.0890 - acc: 0.9652 - val_loss: 0.8507 - val_acc: 0.7988\n",
      "Epoch 14/15\n",
      "22451/22451 [==============================] - 261s 12ms/sample - loss: 0.0801 - acc: 0.9691 - val_loss: 0.7485 - val_acc: 0.8092\n",
      "Epoch 15/15\n",
      "22451/22451 [==============================] - 260s 12ms/sample - loss: 0.0784 - acc: 0.9692 - val_loss: 0.9041 - val_acc: 0.7968\n"
     ]
    }
   ],
   "source": [
    "history = model.fit(X,y,batch_size=32,validation_split=0.1,epochs=15)"
   ]
  },
  {
   "cell_type": "code",
   "execution_count": 19,
   "metadata": {},
   "outputs": [],
   "source": [
    "model.save('Cat_Dog_model.model')"
   ]
  },
  {
   "cell_type": "code",
   "execution_count": null,
   "metadata": {},
   "outputs": [],
   "source": []
  }
 ],
 "metadata": {
  "kernelspec": {
   "display_name": "Python 3",
   "language": "python",
   "name": "python3"
  },
  "language_info": {
   "codemirror_mode": {
    "name": "ipython",
    "version": 3
   },
   "file_extension": ".py",
   "mimetype": "text/x-python",
   "name": "python",
   "nbconvert_exporter": "python",
   "pygments_lexer": "ipython3",
   "version": "3.7.1"
  }
 },
 "nbformat": 4,
 "nbformat_minor": 2
}
